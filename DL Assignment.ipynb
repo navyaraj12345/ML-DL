{
 "cells": [
  {
   "cell_type": "markdown",
   "metadata": {},
   "source": [
    "### ASSIGNMENT "
   ]
  },
  {
   "cell_type": "code",
   "execution_count": 1,
   "metadata": {},
   "outputs": [],
   "source": [
    "import pandas as pd\n",
    "import numpy as np\n",
    "import tensorflow as tf\n",
    "from tensorflow.keras.models import Sequential\n",
    "from tensorflow.keras.layers import Dense, BatchNormalization, Dropout\n",
    "from sklearn.model_selection import train_test_split\n",
    "from sklearn import preprocessing"
   ]
  },
  {
   "cell_type": "code",
   "execution_count": 2,
   "metadata": {},
   "outputs": [],
   "source": [
    "df = pd.read_csv('sensor_readings_24.csv')"
   ]
  },
  {
   "cell_type": "code",
   "execution_count": 3,
   "metadata": {},
   "outputs": [
    {
     "name": "stdout",
     "output_type": "stream",
     "text": [
      "<class 'pandas.core.frame.DataFrame'>\n",
      "RangeIndex: 5455 entries, 0 to 5454\n",
      "Data columns (total 25 columns):\n",
      "0.438                5455 non-null float64\n",
      "0.498                5455 non-null float64\n",
      "3.625                5455 non-null float64\n",
      "3.645                5455 non-null float64\n",
      "5.000                5455 non-null float64\n",
      "2.918                5455 non-null float64\n",
      "5.000.1              5455 non-null float64\n",
      "2.351                5455 non-null float64\n",
      "2.332                5455 non-null float64\n",
      "2.643                5455 non-null float64\n",
      "1.698                5455 non-null float64\n",
      "1.687                5455 non-null float64\n",
      "1.698.1              5455 non-null float64\n",
      "1.717                5455 non-null float64\n",
      "1.744                5455 non-null float64\n",
      "0.593                5455 non-null float64\n",
      "0.502                5455 non-null float64\n",
      "0.493                5455 non-null float64\n",
      "0.504                5455 non-null float64\n",
      "0.445                5455 non-null float64\n",
      "0.431                5455 non-null float64\n",
      "0.444                5455 non-null float64\n",
      "0.440                5455 non-null float64\n",
      "0.429                5455 non-null float64\n",
      "Slight-Right-Turn    5455 non-null object\n",
      "dtypes: float64(24), object(1)\n",
      "memory usage: 1.0+ MB\n"
     ]
    }
   ],
   "source": [
    "df.info()"
   ]
  },
  {
   "cell_type": "code",
   "execution_count": 4,
   "metadata": {},
   "outputs": [
    {
     "data": {
      "text/html": [
       "<div>\n",
       "<style scoped>\n",
       "    .dataframe tbody tr th:only-of-type {\n",
       "        vertical-align: middle;\n",
       "    }\n",
       "\n",
       "    .dataframe tbody tr th {\n",
       "        vertical-align: top;\n",
       "    }\n",
       "\n",
       "    .dataframe thead th {\n",
       "        text-align: right;\n",
       "    }\n",
       "</style>\n",
       "<table border=\"1\" class=\"dataframe\">\n",
       "  <thead>\n",
       "    <tr style=\"text-align: right;\">\n",
       "      <th></th>\n",
       "      <th>0.438</th>\n",
       "      <th>0.498</th>\n",
       "      <th>3.625</th>\n",
       "      <th>3.645</th>\n",
       "      <th>5.000</th>\n",
       "      <th>2.918</th>\n",
       "      <th>5.000.1</th>\n",
       "      <th>2.351</th>\n",
       "      <th>2.332</th>\n",
       "      <th>2.643</th>\n",
       "      <th>...</th>\n",
       "      <th>0.593</th>\n",
       "      <th>0.502</th>\n",
       "      <th>0.493</th>\n",
       "      <th>0.504</th>\n",
       "      <th>0.445</th>\n",
       "      <th>0.431</th>\n",
       "      <th>0.444</th>\n",
       "      <th>0.440</th>\n",
       "      <th>0.429</th>\n",
       "      <th>Slight-Right-Turn</th>\n",
       "    </tr>\n",
       "  </thead>\n",
       "  <tbody>\n",
       "    <tr>\n",
       "      <th>0</th>\n",
       "      <td>0.438</td>\n",
       "      <td>0.498</td>\n",
       "      <td>3.625</td>\n",
       "      <td>3.648</td>\n",
       "      <td>5.0</td>\n",
       "      <td>2.918</td>\n",
       "      <td>5.0</td>\n",
       "      <td>2.637</td>\n",
       "      <td>2.332</td>\n",
       "      <td>2.649</td>\n",
       "      <td>...</td>\n",
       "      <td>0.592</td>\n",
       "      <td>0.502</td>\n",
       "      <td>0.493</td>\n",
       "      <td>0.504</td>\n",
       "      <td>0.449</td>\n",
       "      <td>0.431</td>\n",
       "      <td>0.444</td>\n",
       "      <td>0.443</td>\n",
       "      <td>0.429</td>\n",
       "      <td>Slight-Right-Turn</td>\n",
       "    </tr>\n",
       "    <tr>\n",
       "      <th>1</th>\n",
       "      <td>0.438</td>\n",
       "      <td>0.498</td>\n",
       "      <td>3.625</td>\n",
       "      <td>3.629</td>\n",
       "      <td>5.0</td>\n",
       "      <td>2.918</td>\n",
       "      <td>5.0</td>\n",
       "      <td>2.637</td>\n",
       "      <td>2.334</td>\n",
       "      <td>2.643</td>\n",
       "      <td>...</td>\n",
       "      <td>0.593</td>\n",
       "      <td>0.502</td>\n",
       "      <td>0.493</td>\n",
       "      <td>0.504</td>\n",
       "      <td>0.449</td>\n",
       "      <td>0.431</td>\n",
       "      <td>0.444</td>\n",
       "      <td>0.446</td>\n",
       "      <td>0.429</td>\n",
       "      <td>Slight-Right-Turn</td>\n",
       "    </tr>\n",
       "    <tr>\n",
       "      <th>2</th>\n",
       "      <td>0.437</td>\n",
       "      <td>0.501</td>\n",
       "      <td>3.625</td>\n",
       "      <td>3.626</td>\n",
       "      <td>5.0</td>\n",
       "      <td>2.918</td>\n",
       "      <td>5.0</td>\n",
       "      <td>2.353</td>\n",
       "      <td>2.334</td>\n",
       "      <td>2.642</td>\n",
       "      <td>...</td>\n",
       "      <td>0.593</td>\n",
       "      <td>0.502</td>\n",
       "      <td>0.493</td>\n",
       "      <td>0.504</td>\n",
       "      <td>0.449</td>\n",
       "      <td>0.431</td>\n",
       "      <td>0.444</td>\n",
       "      <td>0.444</td>\n",
       "      <td>0.429</td>\n",
       "      <td>Slight-Right-Turn</td>\n",
       "    </tr>\n",
       "    <tr>\n",
       "      <th>3</th>\n",
       "      <td>0.438</td>\n",
       "      <td>0.498</td>\n",
       "      <td>3.626</td>\n",
       "      <td>3.629</td>\n",
       "      <td>5.0</td>\n",
       "      <td>2.918</td>\n",
       "      <td>5.0</td>\n",
       "      <td>2.640</td>\n",
       "      <td>2.334</td>\n",
       "      <td>2.639</td>\n",
       "      <td>...</td>\n",
       "      <td>0.592</td>\n",
       "      <td>0.502</td>\n",
       "      <td>0.493</td>\n",
       "      <td>0.504</td>\n",
       "      <td>0.449</td>\n",
       "      <td>0.431</td>\n",
       "      <td>0.444</td>\n",
       "      <td>0.441</td>\n",
       "      <td>0.429</td>\n",
       "      <td>Slight-Right-Turn</td>\n",
       "    </tr>\n",
       "    <tr>\n",
       "      <th>4</th>\n",
       "      <td>0.439</td>\n",
       "      <td>0.498</td>\n",
       "      <td>3.626</td>\n",
       "      <td>3.629</td>\n",
       "      <td>5.0</td>\n",
       "      <td>2.918</td>\n",
       "      <td>5.0</td>\n",
       "      <td>2.633</td>\n",
       "      <td>2.334</td>\n",
       "      <td>2.645</td>\n",
       "      <td>...</td>\n",
       "      <td>0.589</td>\n",
       "      <td>0.502</td>\n",
       "      <td>0.493</td>\n",
       "      <td>0.504</td>\n",
       "      <td>0.446</td>\n",
       "      <td>0.431</td>\n",
       "      <td>0.444</td>\n",
       "      <td>0.444</td>\n",
       "      <td>0.430</td>\n",
       "      <td>Slight-Right-Turn</td>\n",
       "    </tr>\n",
       "  </tbody>\n",
       "</table>\n",
       "<p>5 rows × 25 columns</p>\n",
       "</div>"
      ],
      "text/plain": [
       "   0.438  0.498  3.625  3.645  5.000  2.918  5.000.1  2.351  2.332  2.643  \\\n",
       "0  0.438  0.498  3.625  3.648    5.0  2.918      5.0  2.637  2.332  2.649   \n",
       "1  0.438  0.498  3.625  3.629    5.0  2.918      5.0  2.637  2.334  2.643   \n",
       "2  0.437  0.501  3.625  3.626    5.0  2.918      5.0  2.353  2.334  2.642   \n",
       "3  0.438  0.498  3.626  3.629    5.0  2.918      5.0  2.640  2.334  2.639   \n",
       "4  0.439  0.498  3.626  3.629    5.0  2.918      5.0  2.633  2.334  2.645   \n",
       "\n",
       "   ...  0.593  0.502  0.493  0.504  0.445  0.431  0.444  0.440  0.429  \\\n",
       "0  ...  0.592  0.502  0.493  0.504  0.449  0.431  0.444  0.443  0.429   \n",
       "1  ...  0.593  0.502  0.493  0.504  0.449  0.431  0.444  0.446  0.429   \n",
       "2  ...  0.593  0.502  0.493  0.504  0.449  0.431  0.444  0.444  0.429   \n",
       "3  ...  0.592  0.502  0.493  0.504  0.449  0.431  0.444  0.441  0.429   \n",
       "4  ...  0.589  0.502  0.493  0.504  0.446  0.431  0.444  0.444  0.430   \n",
       "\n",
       "   Slight-Right-Turn  \n",
       "0  Slight-Right-Turn  \n",
       "1  Slight-Right-Turn  \n",
       "2  Slight-Right-Turn  \n",
       "3  Slight-Right-Turn  \n",
       "4  Slight-Right-Turn  \n",
       "\n",
       "[5 rows x 25 columns]"
      ]
     },
     "execution_count": 4,
     "metadata": {},
     "output_type": "execute_result"
    }
   ],
   "source": [
    "df.head()"
   ]
  },
  {
   "cell_type": "code",
   "execution_count": 5,
   "metadata": {},
   "outputs": [
    {
     "data": {
      "text/plain": [
       "array(['Slight-Right-Turn', 'Sharp-Right-Turn', 'Move-Forward',\n",
       "       'Slight-Left-Turn'], dtype=object)"
      ]
     },
     "execution_count": 5,
     "metadata": {},
     "output_type": "execute_result"
    }
   ],
   "source": [
    "df['Slight-Right-Turn'].unique()"
   ]
  },
  {
   "cell_type": "code",
   "execution_count": 6,
   "metadata": {},
   "outputs": [],
   "source": [
    "label_encoder = preprocessing.LabelEncoder()\n",
    "df['Slight-Right-Turn'] = label_encoder.fit_transform(df['Slight-Right-Turn'])"
   ]
  },
  {
   "cell_type": "code",
   "execution_count": 7,
   "metadata": {},
   "outputs": [
    {
     "data": {
      "text/plain": [
       "array([3, 1, 0, 2], dtype=int64)"
      ]
     },
     "execution_count": 7,
     "metadata": {},
     "output_type": "execute_result"
    }
   ],
   "source": [
    "df['Slight-Right-Turn'].unique()"
   ]
  },
  {
   "cell_type": "code",
   "execution_count": 8,
   "metadata": {},
   "outputs": [
    {
     "data": {
      "text/html": [
       "<div>\n",
       "<style scoped>\n",
       "    .dataframe tbody tr th:only-of-type {\n",
       "        vertical-align: middle;\n",
       "    }\n",
       "\n",
       "    .dataframe tbody tr th {\n",
       "        vertical-align: top;\n",
       "    }\n",
       "\n",
       "    .dataframe thead th {\n",
       "        text-align: right;\n",
       "    }\n",
       "</style>\n",
       "<table border=\"1\" class=\"dataframe\">\n",
       "  <thead>\n",
       "    <tr style=\"text-align: right;\">\n",
       "      <th></th>\n",
       "      <th>0.438</th>\n",
       "      <th>0.498</th>\n",
       "      <th>3.625</th>\n",
       "      <th>3.645</th>\n",
       "      <th>5.000</th>\n",
       "      <th>2.918</th>\n",
       "      <th>5.000.1</th>\n",
       "      <th>2.351</th>\n",
       "      <th>2.332</th>\n",
       "      <th>2.643</th>\n",
       "      <th>...</th>\n",
       "      <th>0.593</th>\n",
       "      <th>0.502</th>\n",
       "      <th>0.493</th>\n",
       "      <th>0.504</th>\n",
       "      <th>0.445</th>\n",
       "      <th>0.431</th>\n",
       "      <th>0.444</th>\n",
       "      <th>0.440</th>\n",
       "      <th>0.429</th>\n",
       "      <th>Slight-Right-Turn</th>\n",
       "    </tr>\n",
       "  </thead>\n",
       "  <tbody>\n",
       "    <tr>\n",
       "      <th>0</th>\n",
       "      <td>0.438</td>\n",
       "      <td>0.498</td>\n",
       "      <td>3.625</td>\n",
       "      <td>3.648</td>\n",
       "      <td>5.0</td>\n",
       "      <td>2.918</td>\n",
       "      <td>5.0</td>\n",
       "      <td>2.637</td>\n",
       "      <td>2.332</td>\n",
       "      <td>2.649</td>\n",
       "      <td>...</td>\n",
       "      <td>0.592</td>\n",
       "      <td>0.502</td>\n",
       "      <td>0.493</td>\n",
       "      <td>0.504</td>\n",
       "      <td>0.449</td>\n",
       "      <td>0.431</td>\n",
       "      <td>0.444</td>\n",
       "      <td>0.443</td>\n",
       "      <td>0.429</td>\n",
       "      <td>3</td>\n",
       "    </tr>\n",
       "    <tr>\n",
       "      <th>1</th>\n",
       "      <td>0.438</td>\n",
       "      <td>0.498</td>\n",
       "      <td>3.625</td>\n",
       "      <td>3.629</td>\n",
       "      <td>5.0</td>\n",
       "      <td>2.918</td>\n",
       "      <td>5.0</td>\n",
       "      <td>2.637</td>\n",
       "      <td>2.334</td>\n",
       "      <td>2.643</td>\n",
       "      <td>...</td>\n",
       "      <td>0.593</td>\n",
       "      <td>0.502</td>\n",
       "      <td>0.493</td>\n",
       "      <td>0.504</td>\n",
       "      <td>0.449</td>\n",
       "      <td>0.431</td>\n",
       "      <td>0.444</td>\n",
       "      <td>0.446</td>\n",
       "      <td>0.429</td>\n",
       "      <td>3</td>\n",
       "    </tr>\n",
       "    <tr>\n",
       "      <th>2</th>\n",
       "      <td>0.437</td>\n",
       "      <td>0.501</td>\n",
       "      <td>3.625</td>\n",
       "      <td>3.626</td>\n",
       "      <td>5.0</td>\n",
       "      <td>2.918</td>\n",
       "      <td>5.0</td>\n",
       "      <td>2.353</td>\n",
       "      <td>2.334</td>\n",
       "      <td>2.642</td>\n",
       "      <td>...</td>\n",
       "      <td>0.593</td>\n",
       "      <td>0.502</td>\n",
       "      <td>0.493</td>\n",
       "      <td>0.504</td>\n",
       "      <td>0.449</td>\n",
       "      <td>0.431</td>\n",
       "      <td>0.444</td>\n",
       "      <td>0.444</td>\n",
       "      <td>0.429</td>\n",
       "      <td>3</td>\n",
       "    </tr>\n",
       "    <tr>\n",
       "      <th>3</th>\n",
       "      <td>0.438</td>\n",
       "      <td>0.498</td>\n",
       "      <td>3.626</td>\n",
       "      <td>3.629</td>\n",
       "      <td>5.0</td>\n",
       "      <td>2.918</td>\n",
       "      <td>5.0</td>\n",
       "      <td>2.640</td>\n",
       "      <td>2.334</td>\n",
       "      <td>2.639</td>\n",
       "      <td>...</td>\n",
       "      <td>0.592</td>\n",
       "      <td>0.502</td>\n",
       "      <td>0.493</td>\n",
       "      <td>0.504</td>\n",
       "      <td>0.449</td>\n",
       "      <td>0.431</td>\n",
       "      <td>0.444</td>\n",
       "      <td>0.441</td>\n",
       "      <td>0.429</td>\n",
       "      <td>3</td>\n",
       "    </tr>\n",
       "    <tr>\n",
       "      <th>4</th>\n",
       "      <td>0.439</td>\n",
       "      <td>0.498</td>\n",
       "      <td>3.626</td>\n",
       "      <td>3.629</td>\n",
       "      <td>5.0</td>\n",
       "      <td>2.918</td>\n",
       "      <td>5.0</td>\n",
       "      <td>2.633</td>\n",
       "      <td>2.334</td>\n",
       "      <td>2.645</td>\n",
       "      <td>...</td>\n",
       "      <td>0.589</td>\n",
       "      <td>0.502</td>\n",
       "      <td>0.493</td>\n",
       "      <td>0.504</td>\n",
       "      <td>0.446</td>\n",
       "      <td>0.431</td>\n",
       "      <td>0.444</td>\n",
       "      <td>0.444</td>\n",
       "      <td>0.430</td>\n",
       "      <td>3</td>\n",
       "    </tr>\n",
       "  </tbody>\n",
       "</table>\n",
       "<p>5 rows × 25 columns</p>\n",
       "</div>"
      ],
      "text/plain": [
       "   0.438  0.498  3.625  3.645  5.000  2.918  5.000.1  2.351  2.332  2.643  \\\n",
       "0  0.438  0.498  3.625  3.648    5.0  2.918      5.0  2.637  2.332  2.649   \n",
       "1  0.438  0.498  3.625  3.629    5.0  2.918      5.0  2.637  2.334  2.643   \n",
       "2  0.437  0.501  3.625  3.626    5.0  2.918      5.0  2.353  2.334  2.642   \n",
       "3  0.438  0.498  3.626  3.629    5.0  2.918      5.0  2.640  2.334  2.639   \n",
       "4  0.439  0.498  3.626  3.629    5.0  2.918      5.0  2.633  2.334  2.645   \n",
       "\n",
       "   ...  0.593  0.502  0.493  0.504  0.445  0.431  0.444  0.440  0.429  \\\n",
       "0  ...  0.592  0.502  0.493  0.504  0.449  0.431  0.444  0.443  0.429   \n",
       "1  ...  0.593  0.502  0.493  0.504  0.449  0.431  0.444  0.446  0.429   \n",
       "2  ...  0.593  0.502  0.493  0.504  0.449  0.431  0.444  0.444  0.429   \n",
       "3  ...  0.592  0.502  0.493  0.504  0.449  0.431  0.444  0.441  0.429   \n",
       "4  ...  0.589  0.502  0.493  0.504  0.446  0.431  0.444  0.444  0.430   \n",
       "\n",
       "   Slight-Right-Turn  \n",
       "0                  3  \n",
       "1                  3  \n",
       "2                  3  \n",
       "3                  3  \n",
       "4                  3  \n",
       "\n",
       "[5 rows x 25 columns]"
      ]
     },
     "execution_count": 8,
     "metadata": {},
     "output_type": "execute_result"
    }
   ],
   "source": [
    "df.head()"
   ]
  },
  {
   "cell_type": "code",
   "execution_count": 10,
   "metadata": {},
   "outputs": [],
   "source": [
    "x = df.iloc[:,:-1]\n",
    "y = df.iloc[:,-1]"
   ]
  },
  {
   "cell_type": "code",
   "execution_count": 11,
   "metadata": {},
   "outputs": [],
   "source": [
    "x_train, x_test, y_train, y_test = train_test_split(x,y,test_size=0.3,random_state=0)"
   ]
  },
  {
   "cell_type": "code",
   "execution_count": 12,
   "metadata": {},
   "outputs": [
    {
     "data": {
      "text/plain": [
       "(3818, 24)"
      ]
     },
     "execution_count": 12,
     "metadata": {},
     "output_type": "execute_result"
    }
   ],
   "source": [
    "x_train.shape"
   ]
  },
  {
   "cell_type": "code",
   "execution_count": 13,
   "metadata": {},
   "outputs": [
    {
     "data": {
      "text/plain": [
       "(3818,)"
      ]
     },
     "execution_count": 13,
     "metadata": {},
     "output_type": "execute_result"
    }
   ],
   "source": [
    "y_train.shape"
   ]
  },
  {
   "cell_type": "code",
   "execution_count": 16,
   "metadata": {},
   "outputs": [
    {
     "name": "stderr",
     "output_type": "stream",
     "text": [
      "Using TensorFlow backend.\n"
     ]
    }
   ],
   "source": [
    "from keras.utils import np_utils"
   ]
  },
  {
   "cell_type": "code",
   "execution_count": 17,
   "metadata": {},
   "outputs": [],
   "source": [
    "y_train = np_utils.to_categorical(y_train,10)\n",
    "y_test = np_utils.to_categorical(y_test,10)"
   ]
  },
  {
   "cell_type": "code",
   "execution_count": 18,
   "metadata": {},
   "outputs": [
    {
     "data": {
      "text/plain": [
       "array([0., 1., 0., 0., 0., 0., 0., 0., 0., 0.], dtype=float32)"
      ]
     },
     "execution_count": 18,
     "metadata": {},
     "output_type": "execute_result"
    }
   ],
   "source": [
    "y_train[0]"
   ]
  },
  {
   "cell_type": "code",
   "execution_count": null,
   "metadata": {},
   "outputs": [],
   "source": []
  },
  {
   "cell_type": "code",
   "execution_count": 19,
   "metadata": {},
   "outputs": [],
   "source": [
    "model = Sequential()"
   ]
  },
  {
   "cell_type": "code",
   "execution_count": 26,
   "metadata": {},
   "outputs": [],
   "source": [
    "model.add(Dense(32,input_shape=(24,)))\n",
    "model.add(BatchNormalization())\n",
    "model.add(Dense(128,activation='relu'))\n",
    "model.add(Dropout(0.3))\n",
    "model.add(Dense(128,activation='relu'))\n",
    "model.add(Dropout(0.3))\n",
    "model.add(Dense(128,activation='relu'))\n",
    "model.add(Dropout(0.3))\n",
    "model.add(Dense(10,activation='softmax'))"
   ]
  },
  {
   "cell_type": "code",
   "execution_count": 27,
   "metadata": {},
   "outputs": [],
   "source": [
    "model.compile(loss='categorical_crossentropy',optimizer='adam',metrics=['accuracy'])"
   ]
  },
  {
   "cell_type": "code",
   "execution_count": 31,
   "metadata": {},
   "outputs": [
    {
     "name": "stdout",
     "output_type": "stream",
     "text": [
      "Train on 3818 samples, validate on 1637 samples\n",
      "Epoch 1/10\n",
      "3818/3818 [==============================] - 0s 105us/sample - loss: 0.4290 - acc: 0.8468 - val_loss: 0.3620 - val_acc: 0.8803\n",
      "Epoch 2/10\n",
      "3818/3818 [==============================] - 0s 100us/sample - loss: 0.4312 - acc: 0.8394 - val_loss: 0.3585 - val_acc: 0.8845\n",
      "Epoch 3/10\n",
      "3818/3818 [==============================] - 0s 105us/sample - loss: 0.4219 - acc: 0.8486 - val_loss: 0.3370 - val_acc: 0.8931\n",
      "Epoch 4/10\n",
      "3818/3818 [==============================] - 0s 105us/sample - loss: 0.4238 - acc: 0.8554 - val_loss: 0.3256 - val_acc: 0.8949\n",
      "Epoch 5/10\n",
      "3818/3818 [==============================] - 0s 108us/sample - loss: 0.4215 - acc: 0.8502 - val_loss: 0.3320 - val_acc: 0.8943\n",
      "Epoch 6/10\n",
      "3818/3818 [==============================] - 0s 107us/sample - loss: 0.4222 - acc: 0.8497 - val_loss: 0.3410 - val_acc: 0.8797\n",
      "Epoch 7/10\n",
      "3818/3818 [==============================] - 0s 99us/sample - loss: 0.4430 - acc: 0.8460 - val_loss: 0.3537 - val_acc: 0.8907\n",
      "Epoch 8/10\n",
      "3818/3818 [==============================] - 0s 107us/sample - loss: 0.4115 - acc: 0.8483 - val_loss: 0.3123 - val_acc: 0.8907\n",
      "Epoch 9/10\n",
      "3818/3818 [==============================] - 0s 105us/sample - loss: 0.4250 - acc: 0.8502 - val_loss: 0.3233 - val_acc: 0.8870\n",
      "Epoch 10/10\n",
      "3818/3818 [==============================] - 0s 105us/sample - loss: 0.4047 - acc: 0.8552 - val_loss: 0.3118 - val_acc: 0.8937\n"
     ]
    },
    {
     "data": {
      "text/plain": [
       "<tensorflow.python.keras.callbacks.History at 0x28a8ddc85f8>"
      ]
     },
     "execution_count": 31,
     "metadata": {},
     "output_type": "execute_result"
    }
   ],
   "source": [
    "model.fit(x_train,y_train,epochs=10,batch_size=300, validation_data=(x_test,y_test))"
   ]
  },
  {
   "cell_type": "code",
   "execution_count": null,
   "metadata": {},
   "outputs": [],
   "source": []
  }
 ],
 "metadata": {
  "kernelspec": {
   "display_name": "Python 3",
   "language": "python",
   "name": "python3"
  },
  "language_info": {
   "codemirror_mode": {
    "name": "ipython",
    "version": 3
   },
   "file_extension": ".py",
   "mimetype": "text/x-python",
   "name": "python",
   "nbconvert_exporter": "python",
   "pygments_lexer": "ipython3",
   "version": "3.7.2"
  }
 },
 "nbformat": 4,
 "nbformat_minor": 2
}
